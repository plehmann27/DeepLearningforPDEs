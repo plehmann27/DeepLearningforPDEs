{
 "cells": [
  {
   "cell_type": "code",
   "execution_count": 2,
   "id": "37427cfd",
   "metadata": {},
   "outputs": [
    {
     "name": "stdout",
     "output_type": "stream",
     "text": [
      "WARNING:tensorflow:From C:\\Users\\lehmannpa\\AppData\\Local\\anaconda3\\Lib\\site-packages\\keras\\src\\losses.py:2976: The name tf.losses.sparse_softmax_cross_entropy is deprecated. Please use tf.compat.v1.losses.sparse_softmax_cross_entropy instead.\n",
      "\n"
     ]
    }
   ],
   "source": [
    "import tensorflow as tf"
   ]
  },
  {
   "cell_type": "code",
   "execution_count": 3,
   "id": "2cd7e84f",
   "metadata": {},
   "outputs": [],
   "source": [
    "# this NN is supposed to matricize a vector, invert it and then transform to a sqrt(dim(input))-vector\n",
    "# final output is weight vector for linear combination\n",
    "class NeuralNet(tf.keras.Model):\n",
    "    def __init__(self,p):\n",
    "        super().__init__(self)\n",
    "        self.r1 = tf.keras.layers.Reshape((p-1,p-1))\n",
    "        self.f1 = tf.keras.layers.Flatten()\n",
    "        self.d1 = tf.keras.layers.Dense(p-1, input_shape = ((p-1)**2,))\n",
    "        \n",
    "    def call(self,x):\n",
    "        x = self.r1(x)\n",
    "        x = self.f1(tf.linalg.inv(x))\n",
    "        return self.d1(x)\n",
    "    \n",
    "    def setOwnWeights(self, weight1, p):\n",
    "        self.d1.build(input_shape = ((p-1)**2,))\n",
    "        self.d1.set_weights(weight1)"
   ]
  },
  {
   "cell_type": "code",
   "execution_count": null,
   "id": "530c3cfc",
   "metadata": {},
   "outputs": [],
   "source": []
  }
 ],
 "metadata": {
  "kernelspec": {
   "display_name": "Python 3 (ipykernel)",
   "language": "python",
   "name": "python3"
  },
  "language_info": {
   "codemirror_mode": {
    "name": "ipython",
    "version": 3
   },
   "file_extension": ".py",
   "mimetype": "text/x-python",
   "name": "python",
   "nbconvert_exporter": "python",
   "pygments_lexer": "ipython3",
   "version": "3.11.5"
  }
 },
 "nbformat": 4,
 "nbformat_minor": 5
}
