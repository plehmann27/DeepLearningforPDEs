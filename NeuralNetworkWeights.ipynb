{
 "cells": [
  {
   "cell_type": "code",
   "execution_count": 1,
   "id": "62000503",
   "metadata": {},
   "outputs": [
    {
     "name": "stdout",
     "output_type": "stream",
     "text": [
      "importing Jupyter notebook from TheoreticalSolution.ipynb\n"
     ]
    }
   ],
   "source": [
    "import numpy as np\n",
    "import import_ipynb\n",
    "from TheoreticalSolution import vectorize"
   ]
  },
  {
   "cell_type": "code",
   "execution_count": 2,
   "id": "03796a2c",
   "metadata": {},
   "outputs": [],
   "source": [
    "# function calculates the theoretical neural network weights for approximately solving the PDE\n",
    "# for explanation refer to the paper by Schwab\n",
    "def returnWeights(p,cfnb, adiscrete, ArrayPoints, ArrayWeights, BasisPhi):\n",
    "    r = []\n",
    "    storage = np.zeros([1,(p-1)**2])\n",
    "    for i in range(q):\n",
    "       arr = np.zeros((p-1,p-1))\n",
    "       for j in range(p-1):\n",
    "           for k in range(p-1):\n",
    "               arr[j][k] =  ArrayWeights[i] * np.polynomial.polynomial.polyval(ArrayPoints[i], np.polynomial.polynomial.polyder(BasisPhi[j].coef))* np.polynomial.polynomial.polyval(ArrayPoints[i], np.polynomial.polynomial.polyder(BasisPhi[k].coef))\n",
    "       storage = np.append(storage, [vectorize(arr)], axis = 0)\n",
    "    r.extend([storage[1:],np.eye(p-1)])\n",
    "    \n",
    "    storage2 = np.zeros([1,(p-1)**2])\n",
    "    for i in range(q):\n",
    "       arr = np.zeros((p-1,p-1))\n",
    "       for j in range(p-1):\n",
    "           for k in range(p-1):\n",
    "               arr[j][k] =  ArrayWeights[i] * np.polynomial.polynomial.polyval(ArrayPoints[i], (BasisPhi[j].coef))* np.polynomial.polynomial.polyval(ArrayPoints[i], (BasisPhi[k].coef))\n",
    "       storage2 = np.append(storage2, [vectorize(arr)], axis = 0)\n",
    "    l = []\n",
    "    l.extend([storage2[1:],np.zeros((p-1)**2)])\n",
    "\n",
    "    v = []\n",
    "    v.extend([np.kron(cfnb,np.eye(p-1).T), np.zeros(p-1)])\n",
    "\n",
    "    storage3 = np.zeros([1,(p-1)**2])\n",
    "    for i in range(q):\n",
    "       arr = np.zeros((p-1,p-1))\n",
    "       for j in range(p-1):\n",
    "           for k in range(p-1):\n",
    "               arr[j][k] =  ArrayWeights[i] * np.polynomial.polynomial.polyval(ArrayPoints[i], np.polynomial.polynomial.polyder(BasisPhi[j].coef))* np.polynomial.polynomial.polyval(ArrayPoints[i], (BasisPhi[k].coef))\n",
    "       storage3 = np.append(storage3, [vectorize(arr)], axis = 0)\n",
    "    h = []\n",
    "    h.extend([storage3[1:], np.zeros((p-1)**2)])\n",
    "    return r,l,v,h\n",
    "\n"
   ]
  },
  {
   "cell_type": "code",
   "execution_count": null,
   "id": "3fff8d01",
   "metadata": {},
   "outputs": [],
   "source": []
  }
 ],
 "metadata": {
  "kernelspec": {
   "display_name": "Python 3 (ipykernel)",
   "language": "python",
   "name": "python3"
  },
  "language_info": {
   "codemirror_mode": {
    "name": "ipython",
    "version": 3
   },
   "file_extension": ".py",
   "mimetype": "text/x-python",
   "name": "python",
   "nbconvert_exporter": "python",
   "pygments_lexer": "ipython3",
   "version": "3.11.5"
  }
 },
 "nbformat": 4,
 "nbformat_minor": 5
}
