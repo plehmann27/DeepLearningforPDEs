{
 "cells": [
  {
   "cell_type": "code",
   "execution_count": 1,
   "id": "e45a4f4b",
   "metadata": {},
   "outputs": [],
   "source": [
    "import numpy as np\n",
    "from scipy.special import binom\n",
    "from scipy.optimize import  minimize_scalar"
   ]
  },
  {
   "cell_type": "code",
   "execution_count": 2,
   "id": "3c4a35fe",
   "metadata": {},
   "outputs": [],
   "source": [
    "# calculates the grid points for numerical integration on (0,1) as the roots of the shifted Legendre Polynomials\n",
    "def initializePoints(q):\n",
    "    arr = np.zeros(q)\n",
    "    arr[1:q-1] = np.polynomial.polynomial.polyroots(np.polynomial.polynomial.polyder(shiftedLegendre(q-1).coef))\n",
    "    arr[q-1] = 1\n",
    "    return arr\n",
    "\n",
    "# initializes the weights for Gauß-Lobatto integration on (0,1)\n",
    "def initializeWeights(q, ArrayPoints):\n",
    "    return [1/(q*(q-1)*np.polynomial.polynomial.polyval(j,shiftedLegendre(q-1).coef)**2) for j in ArrayPoints]\n",
    "\n",
    "# calculates the n.th shifted Legendre polynomial (on (0,1))\n",
    "def shiftedLegendre(n):\n",
    "    arr = np.zeros(n+1)\n",
    "    for idx in range(n+1):\n",
    "        arr[idx] = binom(n,idx)*binom(n+idx,idx)*(-1)**(n+idx)\n",
    "    return np.polynomial.polynomial.Polynomial(arr)\n",
    "    \n",
    "# calculate the n-th. basis function for the polynomial approximation space\n",
    "def functionL(n):\n",
    "    if(n==0):\n",
    "        return shiftedLegendre(0)\n",
    "    elif(n%2 == 1):\n",
    "        return shiftedLegendre(n+1)\n",
    "    else:\n",
    "        return shiftedLegendre(n+1) - shiftedLegendre(1)\n",
    "\n",
    "# returns an array containing all basis functions    \n",
    "def createBasis(p):\n",
    "    return [functionL(j) for j in range(1,p)]\n",
    "\n",
    "# evaluates the function a at the array ArrayPoints (ArrayPoints[i] in [0,1])\n",
    "def discretizeFunction(a, ArrayPoints):\n",
    "    assert (all([(x <= 1 and x >= 0) for x in ArrayPoints]))\n",
    "    return [a(j) for j in ArrayPoints]\n",
    "\n",
    "# returns minimum and maximum of a on [0,1]\n",
    "def MinMax(a): \n",
    "    amin = minimize_scalar(a, method = 'bounded',bounds = (0,1)).__getitem__('fun')\n",
    "    amax = (-1)*minimize_scalar(lambda x: -a(x), method = 'bounded', bounds = (0,1)).__getitem__('fun')\n",
    "    return [amin,amax]"
   ]
  },
  {
   "cell_type": "code",
   "execution_count": null,
   "id": "31befc34",
   "metadata": {},
   "outputs": [],
   "source": []
  }
 ],
 "metadata": {
  "kernelspec": {
   "display_name": "Python 3 (ipykernel)",
   "language": "python",
   "name": "python3"
  },
  "language_info": {
   "codemirror_mode": {
    "name": "ipython",
    "version": 3
   },
   "file_extension": ".py",
   "mimetype": "text/x-python",
   "name": "python",
   "nbconvert_exporter": "python",
   "pygments_lexer": "ipython3",
   "version": "3.11.5"
  }
 },
 "nbformat": 4,
 "nbformat_minor": 5
}
